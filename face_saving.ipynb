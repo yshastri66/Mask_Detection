{
 "cells": [
  {
   "cell_type": "code",
   "execution_count": 1,
   "metadata": {},
   "outputs": [],
   "source": [
    "import numpy as np\n",
    "import cv2\n",
    "import pandas as pd\n",
    "import matplotlib.pyplot as plt\n",
    "import tensorflow as tf\n",
    "from glob import glob\n",
    "haar = cv2.CascadeClassifier('../model/haarcascade_frontalface_default.xml')"
   ]
  },
  {
   "cell_type": "code",
   "execution_count": 2,
   "metadata": {},
   "outputs": [],
   "source": [
    "path1 = glob('../data/face_with_mask/*.jpeg') +  glob('../data/face_with_mask/*.jpg')\n",
    "path2 = glob('../data/face_without_mask/*.jpeg') +  glob('../data/face_without_mask/*.jpg')"
   ]
  },
  {
   "cell_type": "code",
   "execution_count": 3,
   "metadata": {},
   "outputs": [],
   "source": [
    "def face_detect(path,n,var):\n",
    "    \n",
    "    img = cv2.imread(path)\n",
    "    img_gray = cv2.cvtColor(img,cv2.COLOR_BGR2GRAY)\n",
    "     \n",
    "    faces = haar.detectMultiScale(img_gray)\n",
    "    \n",
    "    if faces == ():\n",
    "        return None\n",
    "    else:\n",
    "        for x,y,w,h in faces:\n",
    "            crop_face = img[y:y+h,x:x+w]\n",
    "        if var == 0:\n",
    "            cv2.imwrite('../data/crop_mask/face{}.jpg'.format(n),crop_face)\n",
    "#        else:\n",
    " #           cv2.imwrite('../data/crop_without_mask/face{}.jpg'.format(n),crop_face)\n",
    "    "
   ]
  },
  {
   "cell_type": "code",
   "execution_count": 32,
   "metadata": {},
   "outputs": [
    {
     "name": "stderr",
     "output_type": "stream",
     "text": [
      "C:\\Users\\user\\Anaconda3\\lib\\site-packages\\ipykernel_launcher.py:8: DeprecationWarning: elementwise comparison failed; this will raise an error in the future.\n",
      "  \n"
     ]
    }
   ],
   "source": [
    "for i,path in enumerate(path1):\n",
    "    face_detect(path,i,0)\n",
    "#for i,path in enumerate(path2):\n",
    " #   face_detect(path,i,1)"
   ]
  },
  {
   "cell_type": "code",
   "execution_count": null,
   "metadata": {},
   "outputs": [],
   "source": []
  },
  {
   "cell_type": "code",
   "execution_count": null,
   "metadata": {},
   "outputs": [],
   "source": []
  }
 ],
 "metadata": {
  "kernelspec": {
   "display_name": "Python 3",
   "language": "python",
   "name": "python3"
  },
  "language_info": {
   "codemirror_mode": {
    "name": "ipython",
    "version": 3
   },
   "file_extension": ".py",
   "mimetype": "text/x-python",
   "name": "python",
   "nbconvert_exporter": "python",
   "pygments_lexer": "ipython3",
   "version": "3.7.3"
  }
 },
 "nbformat": 4,
 "nbformat_minor": 4
}
