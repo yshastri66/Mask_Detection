{
 "cells": [
  {
   "cell_type": "code",
   "execution_count": 11,
   "metadata": {},
   "outputs": [],
   "source": [
    "from glob import glob\n",
    "import numpy as np\n",
    "import cv2"
   ]
  },
  {
   "cell_type": "code",
   "execution_count": 12,
   "metadata": {},
   "outputs": [],
   "source": [
    "img_path = glob('../data/crop_mask/*.jpg') + glob('../data/crop_without_mask/*.jpg')"
   ]
  },
  {
   "cell_type": "code",
   "execution_count": 13,
   "metadata": {},
   "outputs": [],
   "source": [
    "d = { 'crop_mask':0 , 'crop_without_mask' : 1}"
   ]
  },
  {
   "cell_type": "code",
   "execution_count": 14,
   "metadata": {},
   "outputs": [],
   "source": [
    "data = []\n",
    "target =[]\n",
    "img_size = 150\n",
    "\n",
    "for paths in img_path:\n",
    "    \n",
    "    img = cv2.imread(paths)\n",
    "    \n",
    "    try:\n",
    "        gray = cv2.cvtColor(img,cv2.COLOR_BGR2GRAY)\n",
    "        \n",
    "        img_re = cv2.resize(gray,(img_size,img_size))\n",
    "        \n",
    "        data.append(img_re)\n",
    "        \n",
    "        category = paths.split('/')[2].split('\\\\')[0]\n",
    "        target.append(d[category])\n",
    "    except Exception as e:\n",
    "        print('Exception',e)"
   ]
  },
  {
   "cell_type": "code",
   "execution_count": 15,
   "metadata": {},
   "outputs": [],
   "source": [
    "data = np.array(data)/255.0"
   ]
  },
  {
   "cell_type": "code",
   "execution_count": 16,
   "metadata": {},
   "outputs": [],
   "source": [
    "target = np.array(target)"
   ]
  },
  {
   "cell_type": "code",
   "execution_count": 18,
   "metadata": {},
   "outputs": [],
   "source": [
    "data = np.reshape(data,(386,150,150,1))"
   ]
  },
  {
   "cell_type": "code",
   "execution_count": 19,
   "metadata": {},
   "outputs": [],
   "source": [
    "from tensorflow.keras.utils import to_categorical"
   ]
  },
  {
   "cell_type": "code",
   "execution_count": 20,
   "metadata": {},
   "outputs": [],
   "source": [
    "target_new = to_categorical(target)"
   ]
  },
  {
   "cell_type": "code",
   "execution_count": 30,
   "metadata": {},
   "outputs": [],
   "source": [
    "from tensorflow.keras.models import Sequential\n",
    "from tensorflow.keras.layers import Dense,Flatten,Dropout,Conv2D,MaxPooling2D\n",
    "from tensorflow.keras.callbacks import ModelCheckpoint"
   ]
  },
  {
   "cell_type": "code",
   "execution_count": 31,
   "metadata": {},
   "outputs": [],
   "source": [
    "model = Sequential()"
   ]
  },
  {
   "cell_type": "code",
   "execution_count": 32,
   "metadata": {},
   "outputs": [],
   "source": [
    "model.add(Conv2D(200,(3,3),input_shape=data.shape[1:],activation='relu'))\n",
    "model.add(MaxPooling2D(pool_size=(2,2)))\n",
    "\n",
    "model.add(Conv2D(100,(3,3),activation='relu'))\n",
    "model.add(MaxPooling2D(pool_size=(2,2)))\n",
    "\n",
    "model.add(Flatten())\n",
    "model.add(Dropout(0.35))\n",
    "\n",
    "model.add(Dense(100,activation='relu'))\n",
    "model.add(Dense(2,activation='softmax'))"
   ]
  },
  {
   "cell_type": "code",
   "execution_count": 33,
   "metadata": {},
   "outputs": [],
   "source": [
    "model.compile(optimizer='adam',loss='sparse_categorical_crossentropy',metrics=['accuracy'])"
   ]
  },
  {
   "cell_type": "code",
   "execution_count": 34,
   "metadata": {},
   "outputs": [],
   "source": [
    "from sklearn.model_selection import train_test_split"
   ]
  },
  {
   "cell_type": "code",
   "execution_count": 35,
   "metadata": {},
   "outputs": [],
   "source": [
    "X_train, X_test, y_train, y_test = train_test_split( data, target, test_size=0.3, random_state=66)"
   ]
  },
  {
   "cell_type": "code",
   "execution_count": 41,
   "metadata": {},
   "outputs": [
    {
     "name": "stdout",
     "output_type": "stream",
     "text": [
      "Train on 189 samples, validate on 81 samples\n",
      "Epoch 1/20\n",
      "160/189 [========================>.....] - ETA: 15s - loss: 0.6519 - accuracy: 0.6500  ETA: 1:38 - loss: 0.6768 - accuracy: 0INFO:tensorflow:Assets written to: model-001.model\\assets\n",
      "189/189 [==============================] - 112s 595ms/sample - loss: 0.6665 - accuracy: 0.6402 - val_loss: 0.6252 - val_accuracy: 0.6790\n",
      "Epoch 2/20\n",
      "160/189 [========================>.....] - ETA: 5s - loss: 0.5951 - accuracy: 0.7125 INFO:tensorflow:Assets written to: model-002.model\\assets\n",
      "189/189 [==============================] - 54s 284ms/sample - loss: 0.6268 - accuracy: 0.6772 - val_loss: 0.6085 - val_accuracy: 0.6790\n",
      "Epoch 3/20\n",
      "160/189 [========================>.....] - ETA: 6s - loss: 0.5778 - accuracy: 0.7125 INFO:tensorflow:Assets written to: model-003.model\\assets\n",
      "189/189 [==============================] - 68s 362ms/sample - loss: 0.5726 - accuracy: 0.7143 - val_loss: 0.5769 - val_accuracy: 0.7160\n",
      "Epoch 4/20\n",
      "160/189 [========================>.....] - ETA: 4s - loss: 0.5329 - accuracy: 0.7563INFO:tensorflow:Assets written to: model-004.model\\assets\n",
      "189/189 [==============================] - 43s 228ms/sample - loss: 0.5408 - accuracy: 0.7407 - val_loss: 0.5370 - val_accuracy: 0.7160\n",
      "Epoch 5/20\n",
      "160/189 [========================>.....] - ETA: 5s - loss: 0.4595 - accuracy: 0.7875 INFO:tensorflow:Assets written to: model-005.model\\assets\n",
      "189/189 [==============================] - 59s 314ms/sample - loss: 0.4466 - accuracy: 0.7989 - val_loss: 0.4932 - val_accuracy: 0.8272\n",
      "Epoch 6/20\n",
      "160/189 [========================>.....] - ETA: 4s - loss: 0.3483 - accuracy: 0.8750INFO:tensorflow:Assets written to: model-006.model\\assets\n",
      "189/189 [==============================] - 47s 249ms/sample - loss: 0.3396 - accuracy: 0.8730 - val_loss: 0.4342 - val_accuracy: 0.8765\n",
      "Epoch 7/20\n",
      "189/189 [==============================] - 58s 309ms/sample - loss: 0.4013 - accuracy: 0.7989 - val_loss: 0.4608 - val_accuracy: 0.8395\n",
      "Epoch 8/20\n",
      "189/189 [==============================] - 56s 299ms/sample - loss: 0.2892 - accuracy: 0.8783 - val_loss: 0.4603 - val_accuracy: 0.8765\n",
      "Epoch 9/20\n",
      "189/189 [==============================] - 32s 167ms/sample - loss: 0.2414 - accuracy: 0.9153 - val_loss: 0.4845 - val_accuracy: 0.8395\n",
      "Epoch 10/20\n",
      "189/189 [==============================] - 31s 167ms/sample - loss: 0.1457 - accuracy: 0.9735 - val_loss: 0.4820 - val_accuracy: 0.8395\n",
      "Epoch 11/20\n",
      "189/189 [==============================] - 32s 167ms/sample - loss: 0.1313 - accuracy: 0.9418 - val_loss: 0.4947 - val_accuracy: 0.8642\n",
      "Epoch 12/20\n",
      "189/189 [==============================] - 32s 169ms/sample - loss: 0.0957 - accuracy: 0.9788 - val_loss: 0.6358 - val_accuracy: 0.7901\n",
      "Epoch 13/20\n",
      "189/189 [==============================] - 32s 168ms/sample - loss: 0.0697 - accuracy: 0.9788 - val_loss: 0.5433 - val_accuracy: 0.8025\n",
      "Epoch 14/20\n",
      "189/189 [==============================] - 34s 178ms/sample - loss: 0.0319 - accuracy: 1.0000 - val_loss: 0.5242 - val_accuracy: 0.8395\n",
      "Epoch 15/20\n",
      "189/189 [==============================] - 32s 168ms/sample - loss: 0.0357 - accuracy: 0.9841 - val_loss: 0.4986 - val_accuracy: 0.8642\n",
      "Epoch 16/20\n",
      "189/189 [==============================] - 32s 170ms/sample - loss: 0.0240 - accuracy: 1.0000 - val_loss: 0.5243 - val_accuracy: 0.8642\n",
      "Epoch 17/20\n",
      "189/189 [==============================] - 32s 167ms/sample - loss: 0.0245 - accuracy: 1.0000 - val_loss: 0.6393 - val_accuracy: 0.8395\n",
      "Epoch 18/20\n",
      "189/189 [==============================] - 32s 168ms/sample - loss: 0.0163 - accuracy: 1.0000 - val_loss: 0.6073 - val_accuracy: 0.8765\n",
      "Epoch 19/20\n",
      "189/189 [==============================] - 31s 166ms/sample - loss: 0.0095 - accuracy: 1.0000 - val_loss: 0.6382 - val_accuracy: 0.8765\n",
      "Epoch 20/20\n",
      "189/189 [==============================] - 32s 168ms/sample - loss: 0.0113 - accuracy: 1.0000 - val_loss: 0.7477 - val_accuracy: 0.8272\n"
     ]
    }
   ],
   "source": [
    "checkpoint = ModelCheckpoint('model-{epoch:03d}.model',monitor ='val_loss',verbose=0,save_best_only=True,mode='auto')\n",
    "history=model.fit(X_train,y_train,epochs=20,callbacks=[checkpoint],validation_split=0.3)"
   ]
  },
  {
   "cell_type": "code",
   "execution_count": 42,
   "metadata": {},
   "outputs": [
    {
     "name": "stdout",
     "output_type": "stream",
     "text": [
      "116/116 [==============================] - 5s 43ms/sample - loss: 0.4766 - accuracy: 0.8707\n"
     ]
    },
    {
     "data": {
      "text/plain": [
       "[0.4766453309305783, 0.87068963]"
      ]
     },
     "execution_count": 42,
     "metadata": {},
     "output_type": "execute_result"
    }
   ],
   "source": [
    "model.evaluate(X_test,y_test)"
   ]
  },
  {
   "cell_type": "code",
   "execution_count": null,
   "metadata": {},
   "outputs": [],
   "source": []
  },
  {
   "cell_type": "code",
   "execution_count": null,
   "metadata": {},
   "outputs": [],
   "source": []
  },
  {
   "cell_type": "code",
   "execution_count": null,
   "metadata": {},
   "outputs": [],
   "source": []
  }
 ],
 "metadata": {
  "kernelspec": {
   "display_name": "Python 3",
   "language": "python",
   "name": "python3"
  },
  "language_info": {
   "codemirror_mode": {
    "name": "ipython",
    "version": 3
   },
   "file_extension": ".py",
   "mimetype": "text/x-python",
   "name": "python",
   "nbconvert_exporter": "python",
   "pygments_lexer": "ipython3",
   "version": "3.7.3"
  }
 },
 "nbformat": 4,
 "nbformat_minor": 4
}
