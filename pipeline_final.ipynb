{
 "cells": [
  {
   "cell_type": "code",
   "execution_count": 1,
   "metadata": {},
   "outputs": [],
   "source": [
    "from tensorflow.keras.models import load_model\n",
    "import numpy as np"
   ]
  },
  {
   "cell_type": "code",
   "execution_count": 2,
   "metadata": {},
   "outputs": [],
   "source": [
    "model = load_model('DNN_model')"
   ]
  },
  {
   "cell_type": "code",
   "execution_count": 3,
   "metadata": {},
   "outputs": [],
   "source": [
    "import cv2\n",
    "haar = cv2.CascadeClassifier('../model/haarcascade_frontalface_default.xml')\n",
    "img_dict ={0 : 'with mask', 1:'without mask'}\n",
    "color_dict = {0 : (0,255,0), 1:(255,0,0)}"
   ]
  },
  {
   "cell_type": "code",
   "execution_count": 21,
   "metadata": {},
   "outputs": [
    {
     "name": "stderr",
     "output_type": "stream",
     "text": [
      "C:\\Users\\user\\Anaconda3\\lib\\site-packages\\ipykernel_launcher.py:12: DeprecationWarning: elementwise comparison failed; this will raise an error in the future.\n",
      "  if sys.path[0] == '':\n"
     ]
    }
   ],
   "source": [
    "#Live face detection\n",
    "cap = cv2.VideoCapture(0)\n",
    "\n",
    "while(True):\n",
    "    ret,frame = cap.read()\n",
    "    if ret == False:\n",
    "        break\n",
    "    \n",
    "    gray = cv2.cvtColor(frame,cv2.COLOR_RGB2GRAY)\n",
    "    \n",
    "    faces = haar.detectMultiScale(gray,1.3,5)\n",
    "    \n",
    "    if faces == ():\n",
    "        continue\n",
    "    else:\n",
    "        resize_img = cv2.resize(gray,(150,150))\n",
    "        norm_img = resize_img/255.0\n",
    "        \n",
    "        final_img = np.reshape(norm_img,(1,150,150,1))\n",
    "        \n",
    "        results = model.predict(final_img)\n",
    "        label = np.argmax(results,axis=1)[0]\n",
    "        \n",
    "        for x,y,w,h in faces:\n",
    "            cv2.rectangle(frame,(x,y),(x+w,y+h),color_dict[label],2)\n",
    "            cv2.rectangle(frame,(x,y-40),(x+w,y),color_dict[label],-1)\n",
    "            cv2.putText(frame,img_dict[label],(x,y-10),cv2.FONT_HERSHEY_COMPLEX,1,(255,255,255))\n",
    "        cv2.imshow('LIVE',frame)\n",
    "        \n",
    "    if cv2.waitKey(10) == ord('s'):\n",
    "        break\n",
    "cv2.destroyAllWindows()\n",
    "cap.release()"
   ]
  },
  {
   "cell_type": "code",
   "execution_count": null,
   "metadata": {},
   "outputs": [],
   "source": []
  },
  {
   "cell_type": "code",
   "execution_count": null,
   "metadata": {},
   "outputs": [],
   "source": []
  },
  {
   "cell_type": "code",
   "execution_count": null,
   "metadata": {},
   "outputs": [],
   "source": []
  },
  {
   "cell_type": "code",
   "execution_count": null,
   "metadata": {},
   "outputs": [],
   "source": []
  },
  {
   "cell_type": "code",
   "execution_count": null,
   "metadata": {},
   "outputs": [],
   "source": []
  }
 ],
 "metadata": {
  "kernelspec": {
   "display_name": "Python 3",
   "language": "python",
   "name": "python3"
  },
  "language_info": {
   "codemirror_mode": {
    "name": "ipython",
    "version": 3
   },
   "file_extension": ".py",
   "mimetype": "text/x-python",
   "name": "python",
   "nbconvert_exporter": "python",
   "pygments_lexer": "ipython3",
   "version": "3.7.3"
  }
 },
 "nbformat": 4,
 "nbformat_minor": 4
}
